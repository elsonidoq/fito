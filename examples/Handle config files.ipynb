{
 "cells": [
  {
   "cell_type": "markdown",
   "metadata": {},
   "source": [
    "The flexibility that can be seen below can be exploited on these contexts:\n",
    "\n",
    "* Running some experiments from config files in yaml/json\n",
    "* Automatize them and use the json representation to send them as messages\n",
    "* Attach metadata to the experiment (use data stores)"
   ]
  },
  {
   "cell_type": "code",
   "execution_count": 2,
   "metadata": {
    "collapsed": false
   },
   "outputs": [],
   "source": [
    "from fito import as_operation, SpecField, PrimitiveField, Operation\n",
    "from time import sleep\n",
    "\n",
    "class DatabaseConnection(Operation):\n",
    "    host = PrimitiveField(pos=0)\n",
    "    \n",
    "    def __repr__(self): return \"connection(db://{})\".format(self.host)\n",
    "\n",
    "@as_operation(database=SpecField, experiment_config=SpecField)\n",
    "def run_experiment(database, experiment_config):\n",
    "    sleep(0.25)\n",
    "\n",
    "@as_operation()\n",
    "def experiment_1(alpha=0.5, beta=10):\n",
    "    return alpha + beta / 2\n",
    "    "
   ]
  },
  {
   "cell_type": "markdown",
   "metadata": {},
   "source": [
    "\n",
    "It's `__repr__` is descent\n"
   ]
  },
  {
   "cell_type": "code",
   "execution_count": 4,
   "metadata": {
    "collapsed": false
   },
   "outputs": [
    {
     "name": "stdout",
     "output_type": "stream",
     "text": [
      "run_experiment(database=connecti..., experiment_config...)\n"
     ]
    }
   ],
   "source": [
    "run = run_experiment(DatabaseConnection('localhost'), experiment_1(alpha=10))\n",
    "print run"
   ]
  },
  {
   "cell_type": "markdown",
   "metadata": {},
   "source": [
    "Json serializable:"
   ]
  },
  {
   "cell_type": "code",
   "execution_count": 5,
   "metadata": {
    "collapsed": false
   },
   "outputs": [
    {
     "name": "stdout",
     "output_type": "stream",
     "text": [
      "{\n",
      "  \"experiment_config\": {\n",
      "    \"alpha\": 10, \n",
      "    \"beta\": 10, \n",
      "    \"type\": \"experiment_1\"\n",
      "  }, \n",
      "  \"type\": \"run_experiment\", \n",
      "  \"database\": {\n",
      "    \"host\": \"localhost\", \n",
      "    \"type\": \"DatabaseConnection\"\n",
      "  }\n",
      "}\n"
     ]
    }
   ],
   "source": [
    "print run.json.dumps()"
   ]
  },
  {
   "cell_type": "markdown",
   "metadata": {},
   "source": [
    "My beloved yaml-serializable"
   ]
  },
  {
   "cell_type": "code",
   "execution_count": 6,
   "metadata": {
    "collapsed": false
   },
   "outputs": [
    {
     "name": "stdout",
     "output_type": "stream",
     "text": [
      "database:\n",
      "  host: localhost\n",
      "  type: DatabaseConnection\n",
      "experiment_config:\n",
      "  alpha: 10\n",
      "  beta: 10\n",
      "  type: experiment_1\n",
      "type: run_experiment\n",
      "\n"
     ]
    }
   ],
   "source": [
    "print run.yaml.dumps()"
   ]
  },
  {
   "cell_type": "markdown",
   "metadata": {},
   "source": [
    "And of course, parseable :)"
   ]
  },
  {
   "cell_type": "code",
   "execution_count": 7,
   "metadata": {
    "collapsed": false
   },
   "outputs": [
    {
     "name": "stdout",
     "output_type": "stream",
     "text": [
      "database:\n",
      "  host: localhost\n",
      "  type: DatabaseConnection\n",
      "experiment_config:\n",
      "  alpha: 10\n",
      "  beta: 10\n",
      "  type: experiment_1\n",
      "type: run_experiment\n",
      "\n"
     ]
    }
   ],
   "source": [
    "print Operation.from_yaml(run.yaml.dumps()).yaml.dumps()"
   ]
  }
 ],
 "metadata": {
  "kernelspec": {
   "display_name": "Python 2",
   "language": "python",
   "name": "python2"
  },
  "language_info": {
   "codemirror_mode": {
    "name": "ipython",
    "version": 2
   },
   "file_extension": ".py",
   "mimetype": "text/x-python",
   "name": "python",
   "nbconvert_exporter": "python",
   "pygments_lexer": "ipython2",
   "version": "2.7.12"
  }
 },
 "nbformat": 4,
 "nbformat_minor": 0
}
