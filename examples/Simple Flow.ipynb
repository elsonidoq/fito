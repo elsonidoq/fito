{
 "cells": [
  {
   "cell_type": "code",
   "execution_count": 1,
   "metadata": {
    "collapsed": true
   },
   "outputs": [],
   "source": [
    "from fito import Operation, OperationField, PrimitiveField\n",
    "from fito import DictDataStore\n",
    "\n",
    "class Number(Operation):\n",
    "    def add(self, other):\n",
    "        return AddOperation(self, other)\n",
    "    \n",
    "\n",
    "class GetAge(Number):\n",
    "    user_id = PrimitiveField(0)\n",
    "\n",
    "    def _apply(self, data_store):\n",
    "        print \"Execute\"\n",
    "        return data_store.get(self)\n",
    "\n",
    "    def __repr__(self):\n",
    "        return \"get_age(user_id={})\".format(self.user_id)\n",
    "\n",
    "\n",
    "class AddOperation(Number):\n",
    "    left = OperationField(0)\n",
    "    right = OperationField(1)\n",
    "\n",
    "    def _apply(self, data_store):\n",
    "        return data_store.execute(self.left) + data_store.execute(self.right)\n",
    "\n",
    "    def __repr__(self):\n",
    "        return \"{} + {}\".format(self.left, self.right)"
   ]
  },
  {
   "cell_type": "code",
   "execution_count": 3,
   "metadata": {
    "collapsed": false
   },
   "outputs": [
    {
     "name": "stdout",
     "output_type": "stream",
     "text": [
      "get_age(user_id=1) + get_age(user_id=2)\n",
      "get_age(user_id=1) + get_age(user_id=2) + get_age(user_id=1)\n"
     ]
    }
   ],
   "source": [
    "# Data store with execution caching\n",
    "data_store = DictDataStore(execute_cache_size=10)\n",
    "\n",
    "# Data store without execution caching\n",
    "# Try uncommenting this line to see the behaviour of the following cells\n",
    "# data_store = DictDataStore()\n",
    "data_store[GetAge(1)] = 30\n",
    "data_store[GetAge(2)] = 41\n",
    "\n",
    "op = GetAge(1).add(GetAge(2))\n",
    "\n",
    "print op\n",
    "print op.add(GetAge(1))"
   ]
  },
  {
   "cell_type": "code",
   "execution_count": 4,
   "metadata": {
    "collapsed": false
   },
   "outputs": [
    {
     "name": "stdout",
     "output_type": "stream",
     "text": [
      "Data store\n",
      "{get_age(user_id=2): 41, get_age(user_id=1): 30}\n",
      "\n",
      "Operation: get_age(user_id=1) + get_age(user_id=2)\n",
      "\n",
      "Execute\n",
      "Execute\n",
      "Result: 71\n"
     ]
    }
   ],
   "source": [
    "print \"Data store\"\n",
    "print data_store.data\n",
    "\n",
    "print\n",
    "print \"Operation: {}\".format(op)\n",
    "\n",
    "print\n",
    "print \"Result: {}\".format(data_store.execute(op))"
   ]
  },
  {
   "cell_type": "code",
   "execution_count": 5,
   "metadata": {
    "collapsed": false
   },
   "outputs": [
    {
     "name": "stdout",
     "output_type": "stream",
     "text": [
      "Result: 142\n"
     ]
    }
   ],
   "source": [
    "print \"Result: {}\".format(data_store.execute(op.add(op)))"
   ]
  }
 ],
 "metadata": {
  "kernelspec": {
   "display_name": "Python 2",
   "language": "python",
   "name": "python2"
  },
  "language_info": {
   "codemirror_mode": {
    "name": "ipython",
    "version": 2
   },
   "file_extension": ".py",
   "mimetype": "text/x-python",
   "name": "python",
   "nbconvert_exporter": "python",
   "pygments_lexer": "ipython2",
   "version": "2.7.12"
  }
 },
 "nbformat": 4,
 "nbformat_minor": 0
}
