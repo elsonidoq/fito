{
 "cells": [
  {
   "cell_type": "code",
   "execution_count": 4,
   "metadata": {
    "collapsed": false
   },
   "outputs": [],
   "source": [
    "from fito import Operation, SpecField, PrimitiveField\n",
    "\n",
    "class Numeric(Operation):\n",
    "    def __add__(self, other):\n",
    "        return AddOperation(self, other)\n",
    "    \n",
    "\n",
    "class Number(Numeric):\n",
    "    n = PrimitiveField(0)\n",
    "\n",
    "    def apply(self, runner):\n",
    "        return self.n\n",
    "        \n",
    "    def __repr__(self):\n",
    "        return str(self.n)\n",
    "\n",
    "\n",
    "class AddOperation(Numeric):\n",
    "    left = SpecField(0)\n",
    "    right = SpecField(1)\n",
    "\n",
    "    def apply(self, runner):\n",
    "        return runner.execute(self.left) + runner.execute(self.right)\n",
    "\n",
    "    def __repr__(self):\n",
    "        return \"{} + {}\".format(self.left, self.right)"
   ]
  },
  {
   "cell_type": "code",
   "execution_count": 9,
   "metadata": {
    "collapsed": false
   },
   "outputs": [
    {
     "name": "stdout",
     "output_type": "stream",
     "text": [
      "1 + 2\n",
      "1 + 2 + 3\n"
     ]
    }
   ],
   "source": [
    "from fito.operation_runner import OperationRunner\n",
    "\n",
    "# Data store with execution caching\n",
    "runner = OperationRunner(cache_size=10)\n",
    "\n",
    "# operation runner without execution caching\n",
    "# Try uncommenting this line to see the behaviour of the following cells\n",
    "# data_store = OperationRunner()\n",
    "\n",
    "op = Number(1) + Number(2)\n",
    "\n",
    "print op\n",
    "print op + Number(3)"
   ]
  },
  {
   "cell_type": "code",
   "execution_count": 10,
   "metadata": {
    "collapsed": false
   },
   "outputs": [
    {
     "name": "stdout",
     "output_type": "stream",
     "text": [
      "\n",
      "Operation: 1 + 2\n",
      "\n",
      "Result: 3\n"
     ]
    }
   ],
   "source": [
    "print\n",
    "print \"Operation: {}\".format(op)\n",
    "\n",
    "print\n",
    "print \"Result: {}\".format(runner.execute(op))"
   ]
  },
  {
   "cell_type": "code",
   "execution_count": 12,
   "metadata": {
    "collapsed": false
   },
   "outputs": [
    {
     "name": "stdout",
     "output_type": "stream",
     "text": [
      "Result: 6\n"
     ]
    }
   ],
   "source": [
    "print \"Result: {}\".format(data_store.execute(op + op))"
   ]
  }
 ],
 "metadata": {
  "kernelspec": {
   "display_name": "Python 2",
   "language": "python",
   "name": "python2"
  },
  "language_info": {
   "codemirror_mode": {
    "name": "ipython",
    "version": 2
   },
   "file_extension": ".py",
   "mimetype": "text/x-python",
   "name": "python",
   "nbconvert_exporter": "python",
   "pygments_lexer": "ipython2",
   "version": "2.7.12"
  }
 },
 "nbformat": 4,
 "nbformat_minor": 0
}
