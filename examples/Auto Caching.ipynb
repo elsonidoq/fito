{
 "cells": [
  {
   "cell_type": "code",
   "execution_count": 1,
   "metadata": {
    "collapsed": true
   },
   "outputs": [],
   "source": [
    "from fito import DictDataStore\n",
    "\n",
    "ds = DictDataStore()\n",
    "\n",
    "@ds.cache()\n",
    "def f(x, y=1):\n",
    "    print \"Executed!\"\n",
    "    return x + y"
   ]
  },
  {
   "cell_type": "code",
   "execution_count": 2,
   "metadata": {
    "collapsed": true
   },
   "outputs": [],
   "source": [
    "def execute(*input):\n",
    "    print \"Calling f({})\".format(', '.join(map(str, input)))\n",
    "    print f(*input)\n",
    "    print"
   ]
  },
  {
   "cell_type": "code",
   "execution_count": 3,
   "metadata": {
    "collapsed": false
   },
   "outputs": [
    {
     "name": "stdout",
     "output_type": "stream",
     "text": [
      "Calling f(1)\n",
      "Executed!\n",
      "2\n",
      "\n",
      "Cache contents\n",
      "{f(y=1, x=1): 2}\n",
      "\n",
      "Calling f(1)\n",
      "2\n",
      "\n",
      "Emptying cache...\n",
      "Calling f(1)\n",
      "Executed!\n",
      "2\n",
      "\n",
      "Calling f(1, 2)\n",
      "Executed!\n",
      "3\n",
      "\n"
     ]
    }
   ],
   "source": [
    "# will execute f\n",
    "execute(1)\n",
    "\n",
    "print \"Cache contents\"\n",
    "print ds.data\n",
    "print\n",
    "\n",
    "# cache hit!\n",
    "execute(1)\n",
    "\n",
    "print \"Emptying cache...\"\n",
    "ds.data = {}\n",
    "\n",
    "# sohuld print executed again\n",
    "execute(1)\n",
    "\n",
    "execute(1, 2)\n"
   ]
  }
 ],
 "metadata": {
  "kernelspec": {
   "display_name": "Python 2",
   "language": "python",
   "name": "python2"
  },
  "language_info": {
   "codemirror_mode": {
    "name": "ipython",
    "version": 2
   },
   "file_extension": ".py",
   "mimetype": "text/x-python",
   "name": "python",
   "nbconvert_exporter": "python",
   "pygments_lexer": "ipython2",
   "version": "2.7.12"
  }
 },
 "nbformat": 4,
 "nbformat_minor": 0
}
