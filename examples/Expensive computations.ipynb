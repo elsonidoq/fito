{
 "cells": [
  {
   "cell_type": "code",
   "execution_count": 1,
   "metadata": {
    "collapsed": true
   },
   "outputs": [],
   "source": [
    "from time import sleep\n",
    "\n",
    "from fito import DictDataStore\n",
    "from fito.operations.decorate import as_operation\n",
    "\n",
    "\n",
    "@as_operation()\n",
    "def expensive_computation(some_input):\n",
    "    print \"Computing...\"\n",
    "    sleep(1)\n",
    "    return 42"
   ]
  },
  {
   "cell_type": "code",
   "execution_count": 2,
   "metadata": {
    "collapsed": true
   },
   "outputs": [],
   "source": [
    "def execute(some_input):\n",
    "    op = expensive_computation(some_input)\n",
    "    print \"About to execute: {}\".format(op)\n",
    "    ds.execute(op)\n",
    "    print"
   ]
  },
  {
   "cell_type": "code",
   "execution_count": 3,
   "metadata": {
    "collapsed": false
   },
   "outputs": [
    {
     "data": {
      "text/plain": [
       "expensive_computation(some_input=1)"
      ]
     },
     "execution_count": 3,
     "metadata": {},
     "output_type": "execute_result"
    }
   ],
   "source": [
    "# now expensive_computation is a subclass of Operation\n",
    "expensive_computation(1)"
   ]
  },
  {
   "cell_type": "code",
   "execution_count": 4,
   "metadata": {
    "collapsed": true
   },
   "outputs": [],
   "source": [
    "# create a data store with an execution FIFO cache of size 1\n",
    "ds = DictDataStore(execute_cache_size=1)\n",
    "# Hack to make it verbose, will improve that\n",
    "ds.execute_cache.verbose = True"
   ]
  },
  {
   "cell_type": "code",
   "execution_count": 5,
   "metadata": {
    "collapsed": false
   },
   "outputs": [
    {
     "name": "stdout",
     "output_type": "stream",
     "text": [
      "About to execute: expensive_computation(some_input=1)\n",
      "Computing...\n",
      "\n",
      "About to execute: expensive_computation(some_input=1)\n",
      "Fifo hit!\n",
      "\n",
      "About to execute: expensive_computation(some_input=2)\n",
      "Computing...\n",
      "\n",
      "About to execute: expensive_computation(some_input=2)\n",
      "Fifo hit!\n",
      "\n"
     ]
    }
   ],
   "source": [
    "# Will execute the operation\n",
    "execute(1)\n",
    "# Now it is in the cache\n",
    "execute(1)\n",
    "\n",
    "# Will execute the operation\n",
    "# Will remove expensive_computation(1) from the cache\n",
    "execute(2)\n",
    "\n",
    "# Cache hit\n",
    "execute(2)\n"
   ]
  }
 ],
 "metadata": {
  "kernelspec": {
   "display_name": "Python 2",
   "language": "python",
   "name": "python2"
  },
  "language_info": {
   "codemirror_mode": {
    "name": "ipython",
    "version": 2
   },
   "file_extension": ".py",
   "mimetype": "text/x-python",
   "name": "python",
   "nbconvert_exporter": "python",
   "pygments_lexer": "ipython2",
   "version": "2.7.12"
  }
 },
 "nbformat": 4,
 "nbformat_minor": 0
}
